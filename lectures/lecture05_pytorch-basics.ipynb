{
 "cells": [
  {
   "cell_type": "markdown",
   "metadata": {},
   "source": [
    "# Основы фреймворка PyTorch. Тензоры и работа с данными.\n",
    "\n",
    "### Февраль 2022"
   ]
  },
  {
   "cell_type": "markdown",
   "metadata": {},
   "source": [
    "## Введение\n",
    "\n",
    "Успехи современного машинного обучения, к которому относится глубокое обучение, держатся на пяти китах:\n",
    "* __Данные__. Большие объёмы (размеченных, неразмеченных или слабо размеченных) данных привели к необходимости их эффективной обработки и появлению новых задач.\n",
    "| Год            | Название датасета | Задача                | Размер датасета | Примечания                                                               |\n",
    "|----------------|-------------------|-----------------------|-----------------|-----------------------------------------------------------------------|\n",
    "| 1998           | MNIST             | Классификация         | 60K             | 10 рукописных цифр, черно-белые изображения 28х28 пикселей            |\n",
    "| 2009           | CIFAR10           | Классификация         | 60K             | 10 классов, цветные изображения 32х32 пикселей                        |\n",
    "| 2009           | CIFAR100          | Классификация         | 60K             | 100 классов, цветные изображения 32х32 пикселей                       |\n",
    "| 2009(2014)     | ImageNet          | Классификация         | 14M(1M)         | 21K (1К) классов разного размера (как правило, 224х224 пикселя или более)     |\n",
    "| 2010           | PASCAL VOC        | Детекция, сегментация | 500K            | 20 классов, разметка положения и размеров объектов (bounding box)     |\n",
    "| 2015           | MS COCO           | Детекция, сегментация | 2.5М            | 91 класс                                                              |\n",
    "| 2017           | Open Images       | Детекция, сегментация | 9М              | 300 классов                                                           |\n",
    "| 2019 или ранее | JFT-300M          | Классификация         | 300M            | Закрытый датасет Google                                               |\n",
    "| 2020           | CLIP              | Мультимодальный       | 400M            | Закрытый датасет OpenAI, содержащий изображения с текстовыми описаниями. |\n",
    "\n",
    "* __Алгоритмы__. Для решения новых задач были разработаны новые методы. Сюда входят как архитектуры нейросетей (MLP, LeNet, AlexNet, VGG, ResNet, MobileNet, EfficientNet, Transformer, ViT, CLIP, RNN, GRU, LSTM, GAN, Автоэнкодеры, VAE и многие другие), так и методы их эффективного обучения (обратное распространение ошибки, различные алгоритмы оптимизации, распределённые вычисления, обучение с понижением точности вычислений) и инференса (дистилляция, прунинг, квантизация, тензорные декомпозиции).\n",
    "* __Вычислительные средства__. Для обучения современных алгоритмов требуются значительные вычислительные ресурсы. Если простые модели на небольших датасетах можно обучать за несколько минут на обычных процессорах, то самые мощные из современных архитектур требуют несколько недель обучения на вычислительных кластерах из нескольких сотен видеокарт типа NVidia Tesla T100 или A100. Для повышения эффективности обучения моделей было разработано специальное железо - Neural Processing Units - например, Google Cloud TPU или Huawei Ascend.\n",
    "* __Библиотеки и фреймворки__. Для эффективной реализации алгоритмов на вычислительных средств в разное время были разработаны фреймворки, части из которых уже устарела, а часть - только набирает силу: Caffe, Torch, Theano, TensorFlow, MXNet, PaddlePaddle, Keras, PyTorch, JAX, ONNX, MindSpore.\n",
    "* __Талантливые исследователи и разработчики__. То есть, вы. Те, кто придумает новые математические методы для эффективного решения всё более сложных задач, кто сможет реализовать алгоритмы и разработать железо.\n",
    "\n",
    "## Виды вычислительных графов\n",
    "\n",
    "Так как нейронная сеть формализуется ациклическим ориентированным графом, то одним из важнейшим свойством фреймворка является способ исполнения вычислений для заданного графа сети. Существует два способа:\n",
    "1. __Статический__. При этом способе граф сети определяется до начала обучения или инференса. Это позволяет заранее определить формулы, по которым будут вычисляться градиенты, а также проводить оптимизации на графе и добиваться более высокой производительности вычислений. К таким фреймворкам относятся Caffe, TensorFlow, MXNet, MindSpore. Недостатком этого режима являются некоторые ограничения на возможные операции и повышенная сложность отладки алгоритма.\n",
    "2. __Динамический__. При этом способе в ходе выполнения операторов сети путь, по которому производится прямой проход сети (forward pass), журналируется на каждом шаге прямого прохода. На обратном проходе (backward pass) при вычислении градиентов автоматическое дифференцирование производится по журналу, записанному на прямом проходе. Такой подход обеспечивает высокую гибкость: динамическая работа модели позволяет делать различные проходы по графу модели на каждом шаге и реализовать более сложные алгоритмы. При этом отладка моделей зачастую производится проще, чем в статических фреймворках. С другой стороны, динамичность программы не позволяет оптимизировать программы настолько, насколько это возможно в статических фреймворках."
   ]
  },
  {
   "cell_type": "markdown",
   "metadata": {},
   "source": [
    "### Фреймворк PyTorch.\n",
    "\n",
    "![alt text](seminar01-basics_extra/pytorch-logo-dark.png)\n",
    "\n",
    "Официальный сайт: https://pytorch.org/\n",
    "\n",
    "PyTorch (\"Пайторч\") - это оптимизированная библиотека тензорных вычислений с использованием GPU или CPU. PyTorch является динамическим фреймворком.\n",
    "\n",
    "*Здесь и далее, говоря \"Торч\", мы будем иметь ввиду не старый фреймворк C/Lua Torch, в настоящее время не поддерживаемый, а PyTorch*\n",
    "\n",
    "К достоинствам этого фреймворка относятся:\n",
    "* Простота и удобство использования. PyTorch имеет API для Python, Java, C++. В этом курсе мы будем рассматривать примеры работы с PyTorch на Python. Механизм автоматического дифференцирования позволяет создавать и обучать модели с минимальными усилиями.\n",
    "* Гибкость фреймворка делает его хорошим инструментом для проверки самых смелых идей.\n",
    "* Эффективность реализации. Реализация на C++ и CUDA делает обучение достаточно эффективным.\n",
    "* Удобство отладки моделей. Отладочные печати можно делать в любом месте модели.\n",
    "* Большое сообщество разработчиков и большое количество свободных реализаций моделей на github. В настоящее время PyTorch является самым популярным фреймворком среди исследователей.\n",
    "\n",
    "Но есть и недостатки и особенности, о которых следует знать:\n",
    "* Фреймворки, осуществляющие статическую компиляцию графа модели (например, MindSpore), позволяют \"выжать\" из железа большую производительность и на практике могут обучать модели быстрее.\n",
    "* Излишняя гибкость разработанной модели может вызвать трудности при портировании модели на специализированное железо.\n",
    "* Так как глубокое обучение развивается очень активно, через некоторое время могут появиться более популярные и мощные фреймворки. Поэтому хороший исследователь должен с одной стороны изучать и понимать суть методов и алгоритмов, которые он использует, а с другой стороны - следить за современными средствами реализации этих алгоритмов."
   ]
  },
  {
   "cell_type": "markdown",
   "metadata": {},
   "source": [
    "### Установка PyTorch.\n",
    "\n",
    "Рекомендуемый способ - с помощью conda.\n",
    "\n",
    "Версия для CPU:\n",
    "\n",
    "```\n",
    "conda install pytorch torchvision torchaudio cpuonly -c pytorch\n",
    "```\n",
    "\n",
    "Версия для GPU NVidia с поддержкой CUDA:\n",
    "\n",
    "```\n",
    "conda install pytorch torchvision torchaudio cudatoolkit=11.3 -c pytorch\n",
    "```\n",
    "\n",
    "Подробности: https://pytorch.org/get-started/locally/"
   ]
  },
  {
   "cell_type": "markdown",
   "metadata": {},
   "source": [
    "Как правило, работа с фреймворками глубокого обучения состоит из следующих этапов:\n",
    "1. Загрузка данных, аугментации, нормализация\n",
    "2. Создание модели\n",
    "3. Оптимизация параметров модели\n",
    "4. Сохранение модели\n",
    "\n",
    "Импорт модулей."
   ]
  },
  {
   "cell_type": "code",
   "execution_count": 1,
   "metadata": {},
   "outputs": [
    {
     "data": {
      "text/plain": [
       "<torch._C.Generator at 0x7f2689d4d9d0>"
      ]
     },
     "execution_count": 1,
     "metadata": {},
     "output_type": "execute_result"
    }
   ],
   "source": [
    "import torch\n",
    "import numpy as np\n",
    "torch.manual_seed(100)"
   ]
  },
  {
   "cell_type": "markdown",
   "metadata": {},
   "source": [
    "В контексте глубокого обучения Тензором называют многомерный массив данных. В PyTorch тензором является объект класса torch.Tensor.\n",
    "\n",
    "Многие свойства тензора являются аналогами свойств многомерных массивов numpy."
   ]
  },
  {
   "cell_type": "code",
   "execution_count": 2,
   "metadata": {},
   "outputs": [
    {
     "name": "stdout",
     "output_type": "stream",
     "text": [
      "tensor([[1, 2],\n",
      "        [3, 4]])\n",
      "<class 'torch.Tensor'>\n"
     ]
    }
   ],
   "source": [
    "data = [[1, 2],[3, 4]]\n",
    "x_data = torch.tensor(data)\n",
    "print(x_data)\n",
    "print(x_data.__class__)"
   ]
  },
  {
   "cell_type": "markdown",
   "metadata": {},
   "source": [
    "Создать тензор, заполненный единицами, и имеющий размерность другого тензора."
   ]
  },
  {
   "cell_type": "code",
   "execution_count": 3,
   "metadata": {},
   "outputs": [
    {
     "name": "stdout",
     "output_type": "stream",
     "text": [
      "Ones Tensor: \n",
      " tensor([[1, 1],\n",
      "        [1, 1]]) \n",
      "\n"
     ]
    }
   ],
   "source": [
    "x_ones = torch.ones_like(x_data) # retains the properties of x_data\n",
    "print(f\"Ones Tensor: \\n {x_ones} \\n\")"
   ]
  },
  {
   "cell_type": "markdown",
   "metadata": {},
   "source": [
    "Создать тензор, заполненный случайными числами, распределёнными равномерно на интервале [0, 1), и имеющий размерность другого тензора и тип float32."
   ]
  },
  {
   "cell_type": "code",
   "execution_count": 4,
   "metadata": {},
   "outputs": [
    {
     "name": "stdout",
     "output_type": "stream",
     "text": [
      "Random Tensor: \n",
      " tensor([[0.1117, 0.8158],\n",
      "        [0.2626, 0.4839]]) \n",
      "\n"
     ]
    }
   ],
   "source": [
    "x_rand = torch.rand_like(x_data, dtype=torch.float32) # overrides the datatype of x_data\n",
    "print(f\"Random Tensor: \\n {x_rand} \\n\")"
   ]
  },
  {
   "cell_type": "markdown",
   "metadata": {},
   "source": [
    "Тоже самое, но размерность задаётся кортежем:"
   ]
  },
  {
   "cell_type": "code",
   "execution_count": 5,
   "metadata": {},
   "outputs": [
    {
     "name": "stdout",
     "output_type": "stream",
     "text": [
      "Random Tensor: \n",
      " tensor([[0.6765, 0.7539, 0.2627],\n",
      "        [0.0428, 0.2080, 0.1180]]) \n",
      "\n",
      "Ones Tensor: \n",
      " tensor([[1., 1., 1.],\n",
      "        [1., 1., 1.]]) \n",
      "\n",
      "Zeros Tensor: \n",
      " tensor([[0., 0., 0.],\n",
      "        [0., 0., 0.]])\n"
     ]
    }
   ],
   "source": [
    "shape = (2,3,)\n",
    "rand_tensor = torch.rand(shape)\n",
    "ones_tensor = torch.ones(shape)\n",
    "zeros_tensor = torch.zeros(shape)\n",
    "\n",
    "print(f\"Random Tensor: \\n {rand_tensor} \\n\")\n",
    "print(f\"Ones Tensor: \\n {ones_tensor} \\n\")\n",
    "print(f\"Zeros Tensor: \\n {zeros_tensor}\")"
   ]
  },
  {
   "cell_type": "markdown",
   "metadata": {},
   "source": [
    "Основные свойства тензора - его размерность, тип и устройство, в памяти которого он находится:"
   ]
  },
  {
   "cell_type": "code",
   "execution_count": 6,
   "metadata": {},
   "outputs": [
    {
     "name": "stdout",
     "output_type": "stream",
     "text": [
      "Shape of tensor: torch.Size([3, 4])\n",
      "Datatype of tensor: torch.float32\n",
      "Device tensor is stored on: cpu\n"
     ]
    }
   ],
   "source": [
    "tensor = torch.rand(3,4)\n",
    "\n",
    "print(f\"Shape of tensor: {tensor.shape}\")\n",
    "print(f\"Datatype of tensor: {tensor.dtype}\")\n",
    "print(f\"Device tensor is stored on: {tensor.device}\")"
   ]
  },
  {
   "cell_type": "markdown",
   "metadata": {},
   "source": [
    "Переместить тензор на другое устройство можно с помощью метода to. При наличии GPU с поддержкой CUDA можно переместить его в видеопамять."
   ]
  },
  {
   "cell_type": "code",
   "execution_count": 7,
   "metadata": {},
   "outputs": [],
   "source": [
    "if torch.cuda.is_available():\n",
    "    tensor = tensor.to('cuda')"
   ]
  },
  {
   "cell_type": "markdown",
   "metadata": {},
   "source": [
    "Индексация и слайсы работают точно так же, как в numpy:"
   ]
  },
  {
   "cell_type": "code",
   "execution_count": 8,
   "metadata": {},
   "outputs": [
    {
     "name": "stdout",
     "output_type": "stream",
     "text": [
      "First row:  tensor([1., 1., 1., 1.])\n",
      "First column:  tensor([1., 1., 1., 1.])\n",
      "Last column: tensor([1., 1., 1., 1.])\n",
      "tensor([[1., 0., 1., 1.],\n",
      "        [1., 0., 1., 1.],\n",
      "        [1., 0., 1., 1.],\n",
      "        [1., 0., 1., 1.]])\n"
     ]
    }
   ],
   "source": [
    "tensor = torch.ones(4, 4)\n",
    "print('First row: ', tensor[0])\n",
    "print('First column: ', tensor[:, 0])\n",
    "print('Last column:', tensor[..., -1])\n",
    "tensor[:,1] = 0\n",
    "print(tensor)"
   ]
  },
  {
   "cell_type": "markdown",
   "metadata": {},
   "source": [
    "Конкатенация тензоров по одной из размерностей осуществляется с помощью torch.cat:"
   ]
  },
  {
   "cell_type": "code",
   "execution_count": 9,
   "metadata": {},
   "outputs": [
    {
     "name": "stdout",
     "output_type": "stream",
     "text": [
      "tensor([[1., 0., 1., 1., 1., 0., 1., 1., 1., 0., 1., 1.],\n",
      "        [1., 0., 1., 1., 1., 0., 1., 1., 1., 0., 1., 1.],\n",
      "        [1., 0., 1., 1., 1., 0., 1., 1., 1., 0., 1., 1.],\n",
      "        [1., 0., 1., 1., 1., 0., 1., 1., 1., 0., 1., 1.]])\n"
     ]
    }
   ],
   "source": [
    "t1 = torch.cat([tensor, tensor, tensor], dim=1)\n",
    "print(t1)"
   ]
  },
  {
   "cell_type": "markdown",
   "metadata": {},
   "source": [
    "### Арифметические операции\n",
    "\n",
    "Транспонирование матриц осуществляется вызовом .T\n",
    "\n",
    "Умножение матриц - оператор @ или метод matmul."
   ]
  },
  {
   "cell_type": "code",
   "execution_count": 10,
   "metadata": {},
   "outputs": [],
   "source": [
    "y1 = tensor @ tensor.T\n",
    "y2 = tensor.matmul(tensor.T)"
   ]
  },
  {
   "cell_type": "code",
   "execution_count": 11,
   "metadata": {},
   "outputs": [
    {
     "name": "stdout",
     "output_type": "stream",
     "text": [
      "tensor([[3., 3., 3., 3.],\n",
      "        [3., 3., 3., 3.],\n",
      "        [3., 3., 3., 3.],\n",
      "        [3., 3., 3., 3.]])\n",
      "tensor([[3., 3., 3., 3.],\n",
      "        [3., 3., 3., 3.],\n",
      "        [3., 3., 3., 3.],\n",
      "        [3., 3., 3., 3.]])\n"
     ]
    }
   ],
   "source": [
    "print(y1)\n",
    "print(y2)"
   ]
  },
  {
   "cell_type": "code",
   "execution_count": 12,
   "metadata": {},
   "outputs": [
    {
     "data": {
      "text/plain": [
       "tensor([[3., 3., 3., 3.],\n",
       "        [3., 3., 3., 3.],\n",
       "        [3., 3., 3., 3.],\n",
       "        [3., 3., 3., 3.]])"
      ]
     },
     "execution_count": 12,
     "metadata": {},
     "output_type": "execute_result"
    }
   ],
   "source": [
    "y3 = torch.rand_like(tensor)\n",
    "torch.matmul(tensor, tensor.T, out=y3)"
   ]
  },
  {
   "cell_type": "markdown",
   "metadata": {},
   "source": [
    "Получить значение тензора, являющегося скаляром, можно с помощью метода item()."
   ]
  },
  {
   "cell_type": "code",
   "execution_count": 13,
   "metadata": {},
   "outputs": [
    {
     "name": "stdout",
     "output_type": "stream",
     "text": [
      "tensor(48.) <class 'torch.Tensor'>\n",
      "48.0 <class 'float'>\n"
     ]
    }
   ],
   "source": [
    "agg = y3.sum()\n",
    "agg_item = agg.item()\n",
    "print(agg, type(agg))\n",
    "print(agg_item, type(agg_item))"
   ]
  },
  {
   "cell_type": "markdown",
   "metadata": {},
   "source": [
    "### Взаимодействие с Numpy"
   ]
  },
  {
   "cell_type": "markdown",
   "metadata": {},
   "source": [
    "Преобразовать тензор в массив numpy можно с помощью метода numpy().\n",
    "\n",
    "Важно:\n",
    "1. Для возможности вызова метода numpy() тензор должен находиться в оперативной памяти (т.е. устройство - cpu). Если тензор находится в видеопамяти, его необходимо перенести в оперативную память методом cpu().\n",
    "2. Если с тензором связаны градиенты (requires_grad=True), то для возможности вызова метода numpy() необходимо получить тензор без градиентов с помощью метода detach()."
   ]
  },
  {
   "cell_type": "code",
   "execution_count": 14,
   "metadata": {},
   "outputs": [
    {
     "name": "stdout",
     "output_type": "stream",
     "text": [
      "t: tensor([1., 1., 1., 1., 1.], requires_grad=True)\n",
      "n: [1. 1. 1. 1. 1.]\n"
     ]
    }
   ],
   "source": [
    "t = torch.ones(5, requires_grad=True)\n",
    "if torch.cuda.is_available():\n",
    "    t = t.to('cuda')\n",
    "print(f\"t: {t}\")\n",
    "n = t.detach().cpu().numpy()\n",
    "print(f\"n: {n}\")"
   ]
  },
  {
   "cell_type": "markdown",
   "metadata": {},
   "source": [
    "При этом изменения в массиве numpy будут отражаться и в тензоре PyTorch:"
   ]
  },
  {
   "cell_type": "code",
   "execution_count": 15,
   "metadata": {},
   "outputs": [
    {
     "name": "stdout",
     "output_type": "stream",
     "text": [
      "t: tensor([3., 3., 3., 3., 3.], requires_grad=True)\n",
      "n: [3. 3. 3. 3. 3.]\n"
     ]
    }
   ],
   "source": [
    "n += 2\n",
    "print(f\"t: {t}\")\n",
    "print(f\"n: {n}\")"
   ]
  },
  {
   "cell_type": "markdown",
   "metadata": {},
   "source": [
    "Более подробно об операциях с тензорами можно почитать здесь: https://pytorch.org/docs/stable/tensors.html"
   ]
  },
  {
   "cell_type": "markdown",
   "metadata": {},
   "source": [
    "## Работа с данными."
   ]
  },
  {
   "cell_type": "markdown",
   "metadata": {},
   "source": [
    "В PyTorch существуют два основных класса для работы с данными:\n",
    "* Dataset - класс хранилища данных и меток.\n",
    "* DataLoader - итерируемый класс-обёртка вокруг Dataset.\n",
    "\n",
    "Пример: загрузка датасета FashionMNIST.\n",
    "\n",
    "Конструктор класса datasets.FashionMNIST имеет следующие параметры:\n",
    "1. root - путь, где будут храниться данные\n",
    "2. train - определяет обучающую или тестовую часть датасета мы будем загружать\n",
    "3. download - загрузить ли данные из Интернета, если они отсутствуют в root?\n",
    "4. transform - набор преобразований, применяемых к изображениям в датасете (в этом примере мы преобразуем данные в тензор)\n",
    "5. target_transform - набор преобразований, применяемых к меткам в датасете (в этом примере эти преобразования отсутствуют)"
   ]
  },
  {
   "cell_type": "code",
   "execution_count": 16,
   "metadata": {},
   "outputs": [],
   "source": [
    "import torch\n",
    "from torch.utils.data import Dataset\n",
    "from torchvision import datasets\n",
    "from torchvision.transforms import ToTensor\n",
    "import matplotlib.pyplot as plt\n",
    "\n",
    "training_data = datasets.FashionMNIST(\n",
    "    root=\"data\",\n",
    "    train=True,\n",
    "    download=True,\n",
    "    transform=ToTensor()\n",
    ")\n",
    "\n",
    "test_data = datasets.FashionMNIST(\n",
    "    root=\"data\",\n",
    "    train=False,\n",
    "    download=True,\n",
    "    transform=ToTensor()\n",
    ")"
   ]
  },
  {
   "cell_type": "markdown",
   "metadata": {},
   "source": [
    "Попробуем визуализировать данные из датасета."
   ]
  },
  {
   "cell_type": "code",
   "execution_count": 17,
   "metadata": {},
   "outputs": [
    {
     "data": {
      "image/png": "[encoded data removed]",
      "text/plain": [
       "<Figure size 576x576 with 9 Axes>"
      ]
     },
     "metadata": {
      "needs_background": "light"
     },
     "output_type": "display_data"
    }
   ],
   "source": [
    "labels_map = {\n",
    "    0: \"T-Shirt\",\n",
    "    1: \"Trouser\",\n",
    "    2: \"Pullover\",\n",
    "    3: \"Dress\",\n",
    "    4: \"Coat\",\n",
    "    5: \"Sandal\",\n",
    "    6: \"Shirt\",\n",
    "    7: \"Sneaker\",\n",
    "    8: \"Bag\",\n",
    "    9: \"Ankle Boot\",\n",
    "}\n",
    "figure = plt.figure(figsize=(8, 8))\n",
    "cols, rows = 3, 3\n",
    "for i in range(1, cols * rows + 1):\n",
    "    sample_idx = torch.randint(len(training_data), size=(1,)).item() # Случайный индекс из датасета\n",
    "    img, label = training_data[sample_idx] # Обращение по такому индексу возвращает изображение и метку элемента датасета\n",
    "    figure.add_subplot(rows, cols, i)\n",
    "    plt.title(labels_map[label])\n",
    "    plt.axis(\"off\")\n",
    "    plt.imshow(img.squeeze(), cmap=\"gray\")\n",
    "plt.show()"
   ]
  },
  {
   "cell_type": "markdown",
   "metadata": {},
   "source": [
    "Класс DataLoader представляет удобный интерфейс для итерации по датасету."
   ]
  },
  {
   "cell_type": "code",
   "execution_count": 18,
   "metadata": {},
   "outputs": [],
   "source": [
    "from torch.utils.data import DataLoader\n",
    "\n",
    "train_dataloader = DataLoader(training_data, batch_size=64, shuffle=True)\n",
    "test_dataloader = DataLoader(test_data, batch_size=64, shuffle=True)"
   ]
  },
  {
   "cell_type": "markdown",
   "metadata": {},
   "source": [
    "Каждая итерация по даталоадеру возвращает батч данных заданного размера. Если shuffle=True, то данные возвращаются в случайном порядке."
   ]
  },
  {
   "cell_type": "code",
   "execution_count": 19,
   "metadata": {},
   "outputs": [
    {
     "name": "stdout",
     "output_type": "stream",
     "text": [
      "Feature batch shape: torch.Size([64, 1, 28, 28])\n",
      "Labels batch shape: torch.Size([64])\n"
     ]
    },
    {
     "data": {
      "image/png": "[encoded data removed]",
      "text/plain": [
       "<Figure size 432x288 with 1 Axes>"
      ]
     },
     "metadata": {
      "needs_background": "light"
     },
     "output_type": "display_data"
    },
    {
     "name": "stdout",
     "output_type": "stream",
     "text": [
      "Label: 1\n"
     ]
    }
   ],
   "source": [
    "# Display image and label.\n",
    "train_features, train_labels = next(iter(train_dataloader))\n",
    "print(f\"Feature batch shape: {train_features.size()}\")\n",
    "print(f\"Labels batch shape: {train_labels.size()}\")\n",
    "img = train_features[0].squeeze()\n",
    "label = train_labels[0]\n",
    "plt.imshow(img, cmap=\"gray\")\n",
    "plt.show()\n",
    "print(f\"Label: {label}\")"
   ]
  },
  {
   "cell_type": "markdown",
   "metadata": {},
   "source": [
    "## Создание модели"
   ]
  },
  {
   "cell_type": "markdown",
   "metadata": {},
   "source": [
    "В PyTorch как модели целиком, так и отдельные слои являются наследниками класса torch.nn.Module.\n",
    "\n",
    "Для определения поведения слоя или модели при прямом проходе (forward pass) необходимо определить метод forward.\n",
    "\n",
    "По-умолчанию вычисление градиентов на обратном проходе программировать не нужно, градиенты вычисляются автоматически.\n",
    "\n",
    "Однако, если вам потребуется определить функцию, отсутствующую в PyTorch, то это можно сделать, определив метод backward в классе вашей функции.\n",
    "\n",
    "Следующий класс задаёт простую нейронную сеть, состоящую из одной конволюции и двух полносвязных слоёв с активациями ReLU.\n",
    "\n",
    "При вызове модуля (module(x)) автоматически вызывается метод forward."
   ]
  },
  {
   "cell_type": "code",
   "execution_count": 20,
   "metadata": {},
   "outputs": [],
   "source": [
    "from torch import nn"
   ]
  },
  {
   "cell_type": "code",
   "execution_count": 21,
   "metadata": {},
   "outputs": [],
   "source": [
    "class NeuralNetwork(nn.Module):\n",
    "    def __init__(self):\n",
    "        super(NeuralNetwork, self).__init__()\n",
    "        self.linear_relu_stack = nn.Sequential(\n",
    "            nn.Conv2d(in_channels=1, out_channels=2, kernel_size=(3, 3), stride=2, padding=(1, 1), bias=True),\n",
    "            nn.ReLU(),\n",
    "            nn.Flatten(),\n",
    "            nn.Linear(14*14*2, 512),\n",
    "            nn.ReLU(),\n",
    "            nn.Linear(512, 10),\n",
    "        )\n",
    "\n",
    "    def forward(self, x):\n",
    "        logits = self.linear_relu_stack(x)\n",
    "        return logits"
   ]
  },
  {
   "cell_type": "markdown",
   "metadata": {},
   "source": [
    "Flatten - преобразование многомерного тензора в одномерный.\n",
    "\n",
    "Conv2d - 2D-конволюция \n",
    "\n",
    "Linear - полносвязный слой (fully-connected)\n",
    "\n",
    "Для того, чтобы выполнить вычисления на видеокарте, необходимо вызвать метод to."
   ]
  },
  {
   "cell_type": "code",
   "execution_count": 22,
   "metadata": {},
   "outputs": [
    {
     "name": "stdout",
     "output_type": "stream",
     "text": [
      "Using cpu device\n"
     ]
    }
   ],
   "source": [
    "device = 'cuda' if torch.cuda.is_available() else 'cpu'\n",
    "print(f'Using {device} device')"
   ]
  },
  {
   "cell_type": "code",
   "execution_count": 23,
   "metadata": {},
   "outputs": [
    {
     "name": "stdout",
     "output_type": "stream",
     "text": [
      "NeuralNetwork(\n",
      "  (linear_relu_stack): Sequential(\n",
      "    (0): Conv2d(1, 2, kernel_size=(3, 3), stride=(2, 2), padding=(1, 1))\n",
      "    (1): ReLU()\n",
      "    (2): Flatten()\n",
      "    (3): Linear(in_features=392, out_features=512, bias=True)\n",
      "    (4): ReLU()\n",
      "    (5): Linear(in_features=512, out_features=10, bias=True)\n",
      "  )\n",
      ")\n"
     ]
    }
   ],
   "source": [
    "model = NeuralNetwork().to(device)\n",
    "print(model)"
   ]
  },
  {
   "cell_type": "markdown",
   "metadata": {},
   "source": [
    "Подадим на вход нашей модели случайные данные. Обратите внимание, что данные и модель должны находиться на одном и том же устройстве.\n",
    "\n",
    "Функция Softmax выполняет softmax-преобразование данных по (в данном случае) первому измерению. Нулевое измерение - измерение батча.\n",
    "\n",
    "$$ softmax({x_i}) = \\frac{e^{x_i}}{\\sum_{i=1}^{N}{e^{x_i}}} $$"
   ]
  },
  {
   "cell_type": "code",
   "execution_count": 24,
   "metadata": {},
   "outputs": [
    {
     "name": "stdout",
     "output_type": "stream",
     "text": [
      "Predicted class: tensor([1])\n"
     ]
    }
   ],
   "source": [
    "X = torch.rand(1, 1, 28, 28, device=device)\n",
    "logits = model(X)\n",
    "pred_probab = nn.Softmax(dim=1)(logits)\n",
    "y_pred = pred_probab.argmax(1)\n",
    "print(f\"Predicted class: {y_pred}\")"
   ]
  },
  {
   "cell_type": "markdown",
   "metadata": {},
   "source": [
    "Для лучшего понимания того, что мы сейчас сделали, давайте выполним все операции сети вручную:"
   ]
  },
  {
   "cell_type": "markdown",
   "metadata": {},
   "source": [
    "Обратимся по очереди ко всем элементам контейнера linear_relu_stack (класс Sequential).\n",
    "\n",
    "Первый слой осуществляет конволюцию с ядром 3х3, входным числом каналов 1, выходным числом каналов 2, страйдом 2, паддингом в один элемент с каждой стороны и прибавляет bias. Коэффициенты преобразования - обучаемые параметры модели."
   ]
  },
  {
   "cell_type": "code",
   "execution_count": 25,
   "metadata": {},
   "outputs": [
    {
     "name": "stdout",
     "output_type": "stream",
     "text": [
      "Conv2d(1, 2, kernel_size=(3, 3), stride=(2, 2), padding=(1, 1))\n",
      "torch.Size([1, 2, 14, 14])\n",
      "tensor([[ 0.1492, -0.1432, -0.2056, -0.2613],\n",
      "        [-0.2620, -0.1735, -0.3595, -0.2304],\n",
      "        [-0.1403, -0.4182, -0.1868, -0.0496],\n",
      "        [-0.1531, -0.3410, -0.2483, -0.2418]], grad_fn=<SliceBackward>)\n"
     ]
    }
   ],
   "source": [
    "x0 = model.linear_relu_stack[0](X)\n",
    "print(model.linear_relu_stack[0])\n",
    "print(x0.size())\n",
    "print(x0[0, 0, :4, :4])"
   ]
  },
  {
   "cell_type": "markdown",
   "metadata": {},
   "source": [
    "После вызова ReLU отрицательные элементы стали нулями, а положительные - не изменились."
   ]
  },
  {
   "cell_type": "code",
   "execution_count": 26,
   "metadata": {},
   "outputs": [
    {
     "name": "stdout",
     "output_type": "stream",
     "text": [
      "ReLU()\n",
      "torch.Size([1, 2, 14, 14])\n",
      "tensor([[0.1492, 0.0000, 0.0000, 0.0000],\n",
      "        [0.0000, 0.0000, 0.0000, 0.0000],\n",
      "        [0.0000, 0.0000, 0.0000, 0.0000],\n",
      "        [0.0000, 0.0000, 0.0000, 0.0000]], grad_fn=<SliceBackward>)\n"
     ]
    }
   ],
   "source": [
    "x1 = model.linear_relu_stack[1](x0)\n",
    "print(model.linear_relu_stack[1])\n",
    "print(x1.size())\n",
    "print(x1[0, 0, :4, :4])"
   ]
  },
  {
   "cell_type": "markdown",
   "metadata": {},
   "source": [
    "Следующая операция Flatten осуществляет преобразование данных к одномерному виду (кроме размерности батча)"
   ]
  },
  {
   "cell_type": "code",
   "execution_count": 27,
   "metadata": {},
   "outputs": [
    {
     "name": "stdout",
     "output_type": "stream",
     "text": [
      "Flatten()\n",
      "torch.Size([1, 392])\n",
      "tensor([[0.1492, 0.0000, 0.0000, 0.0000, 0.0000, 0.0000, 0.0000, 0.0000, 0.0000,\n",
      "         0.0000]], grad_fn=<SliceBackward>)\n"
     ]
    }
   ],
   "source": [
    "x1_flatten = model.linear_relu_stack[2](x1)\n",
    "print(model.linear_relu_stack[2])\n",
    "print(x1_flatten.size())\n",
    "print(x1_flatten[:, :10])"
   ]
  },
  {
   "cell_type": "markdown",
   "metadata": {},
   "source": [
    "Второй слой осуществляет (также обучаемое) линейное преобразование из размерности 14*14*2=392 в 512 и прибавляет bias."
   ]
  },
  {
   "cell_type": "code",
   "execution_count": 28,
   "metadata": {},
   "outputs": [
    {
     "name": "stdout",
     "output_type": "stream",
     "text": [
      "Linear(in_features=392, out_features=512, bias=True)\n",
      "torch.Size([1, 512])\n",
      "tensor([[ 0.6794, -0.2648,  0.0146,  0.0553, -0.0939, -0.0026,  0.0516,  0.0872,\n",
      "         -0.0844,  0.0019]], grad_fn=<SliceBackward>)\n"
     ]
    }
   ],
   "source": [
    "x2 = model.linear_relu_stack[3](x1_flatten)\n",
    "print(model.linear_relu_stack[3])\n",
    "print(x2.size())\n",
    "print(x2[:, :10])"
   ]
  },
  {
   "cell_type": "markdown",
   "metadata": {},
   "source": [
    "Ещё один ReLU."
   ]
  },
  {
   "cell_type": "code",
   "execution_count": 29,
   "metadata": {},
   "outputs": [
    {
     "name": "stdout",
     "output_type": "stream",
     "text": [
      "ReLU()\n",
      "torch.Size([1, 512])\n",
      "tensor([[0.6794, 0.0000, 0.0146, 0.0553, 0.0000, 0.0000, 0.0516, 0.0872, 0.0000,\n",
      "         0.0019]], grad_fn=<SliceBackward>)\n"
     ]
    }
   ],
   "source": [
    "x3 = model.linear_relu_stack[4](x2)\n",
    "print(model.linear_relu_stack[4])\n",
    "print(x3.size())\n",
    "print(x3[:, :10])"
   ]
  },
  {
   "cell_type": "markdown",
   "metadata": {},
   "source": [
    "И последний обучаемый полносвязный слой преобразует данные из размерности 512 в 10 (по числу выходных классов)."
   ]
  },
  {
   "cell_type": "code",
   "execution_count": 30,
   "metadata": {},
   "outputs": [
    {
     "name": "stdout",
     "output_type": "stream",
     "text": [
      "Linear(in_features=512, out_features=10, bias=True)\n",
      "torch.Size([1, 10])\n",
      "tensor([[ 0.1096,  0.1556, -0.0888, -0.0055, -0.0934, -0.0989, -0.1668,  0.0268,\n",
      "         -0.1270, -0.1192]], grad_fn=<AddmmBackward>)\n"
     ]
    }
   ],
   "source": [
    "x4 = model.linear_relu_stack[5](x3)\n",
    "print(model.linear_relu_stack[5])\n",
    "print(x4.size())\n",
    "print(x4)"
   ]
  },
  {
   "cell_type": "markdown",
   "metadata": {},
   "source": [
    "Сравним полученное значение с результатом вызова всей модели:"
   ]
  },
  {
   "cell_type": "code",
   "execution_count": 31,
   "metadata": {},
   "outputs": [
    {
     "name": "stdout",
     "output_type": "stream",
     "text": [
      "tensor([[ 0.1096,  0.1556, -0.0888, -0.0055, -0.0934, -0.0989, -0.1668,  0.0268,\n",
      "         -0.1270, -0.1192]], grad_fn=<AddmmBackward>)\n"
     ]
    }
   ],
   "source": [
    "print(logits)"
   ]
  },
  {
   "cell_type": "markdown",
   "metadata": {},
   "source": [
    "Они идентичны. Таким образом, наша модель автоматически вызвала все операции из её графа и получила результат."
   ]
  },
  {
   "cell_type": "markdown",
   "metadata": {},
   "source": [
    "Посмотрим, что делает преобразование softmax:"
   ]
  },
  {
   "cell_type": "code",
   "execution_count": 32,
   "metadata": {},
   "outputs": [
    {
     "name": "stdout",
     "output_type": "stream",
     "text": [
      "tensor([[0.1156, 0.1210, 0.0948, 0.1030, 0.0944, 0.0938, 0.0877, 0.1064, 0.0912,\n",
      "         0.0920]], grad_fn=<SoftmaxBackward>)\n",
      "tensor([1.0000], grad_fn=<SumBackward1>)\n"
     ]
    }
   ],
   "source": [
    "pred_probab = nn.Softmax(dim=1)(logits)\n",
    "print(pred_probab)\n",
    "print(pred_probab.sum(dim=1))"
   ]
  },
  {
   "cell_type": "markdown",
   "metadata": {},
   "source": [
    "Давайте посмотрим на параметры нашей модели. Проитерироваться по ним можно с помощью вызова метода named_parameters()."
   ]
  },
  {
   "cell_type": "code",
   "execution_count": 33,
   "metadata": {},
   "outputs": [
    {
     "name": "stdout",
     "output_type": "stream",
     "text": [
      "Model structure:  NeuralNetwork(\n",
      "  (linear_relu_stack): Sequential(\n",
      "    (0): Conv2d(1, 2, kernel_size=(3, 3), stride=(2, 2), padding=(1, 1))\n",
      "    (1): ReLU()\n",
      "    (2): Flatten()\n",
      "    (3): Linear(in_features=392, out_features=512, bias=True)\n",
      "    (4): ReLU()\n",
      "    (5): Linear(in_features=512, out_features=10, bias=True)\n",
      "  )\n",
      ") \n",
      "\n",
      "\n",
      "Layer: linear_relu_stack.0.weight | Size: torch.Size([2, 1, 3, 3]) | Values : tensor([[[[ 0.1125, -0.1528, -0.2315],\n",
      "          [-0.1995,  0.0175,  0.2630],\n",
      "          [-0.0895, -0.1042, -0.0384]]],\n",
      "\n",
      "\n",
      "        [[[-0.0535, -0.0875,  0.0814],\n",
      "          [ 0.2746,  0.2465,  0.1240],\n",
      "          [ 0.0562, -0.2959,  0.0188]]]], grad_fn=<SliceBackward>) \n",
      "\n",
      "Layer: linear_relu_stack.0.bias | Size: torch.Size([2]) | Values : tensor([-0.0695,  0.2827], grad_fn=<SliceBackward>) \n",
      "\n",
      "Layer: linear_relu_stack.3.weight | Size: torch.Size([512, 392]) | Values : tensor([[ 9.7992e-03,  4.6236e-02,  2.3603e-02, -2.0550e-02, -2.8500e-02,\n",
      "         -2.5807e-02, -3.7988e-02, -1.2024e-02,  3.5945e-02,  4.4822e-02,\n",
      "          1.0118e-02,  2.2244e-02,  4.0543e-02,  1.0856e-02,  2.3144e-02,\n",
      "          2.9177e-02, -3.3042e-02, -1.9085e-02, -3.0106e-02, -2.0835e-04,\n",
      "          7.1965e-03,  1.3700e-02, -2.4819e-02, -1.6460e-03,  2.4506e-02,\n",
      "         -1.8408e-02,  2.2295e-02,  4.0455e-02, -3.1541e-02,  1.2593e-02,\n",
      "          3.2105e-02, -7.9343e-03, -4.5883e-02, -4.2548e-02, -5.3541e-03,\n",
      "          1.1935e-02,  4.2165e-02,  2.7036e-02,  2.6090e-02,  3.7128e-02,\n",
      "         -4.8362e-02, -1.3928e-02, -2.0666e-02,  2.6212e-02, -3.9019e-02,\n",
      "          4.7535e-02, -9.0045e-03, -2.6213e-02,  2.0063e-02,  4.9325e-02,\n",
      "         -2.1889e-02,  2.9376e-02,  1.1437e-02, -1.4351e-02,  1.9355e-02,\n",
      "          1.4309e-02,  1.5445e-02,  2.5145e-02,  3.5123e-02, -3.3178e-02,\n",
      "          4.1609e-02,  2.4222e-02,  4.3159e-02, -7.7475e-03,  3.7106e-03,\n",
      "          4.9081e-03, -3.7615e-02, -1.5952e-03, -4.8205e-02, -2.1825e-02,\n",
      "          2.0008e-02,  1.0413e-02, -1.7191e-02,  1.1579e-02, -2.3223e-02,\n",
      "         -3.6400e-02,  1.7389e-02, -1.0562e-02,  2.9937e-03, -4.8696e-02,\n",
      "          3.2652e-03, -4.2399e-02, -4.2373e-02,  5.0017e-02,  2.0845e-02,\n",
      "          3.4996e-02, -6.6119e-03,  3.3692e-02, -2.4550e-02, -2.9690e-03,\n",
      "         -4.9627e-02, -2.6786e-02,  1.5267e-02, -2.4546e-02, -4.3914e-02,\n",
      "          1.5817e-02,  5.6501e-03, -8.9644e-03, -2.6146e-02,  2.2612e-02,\n",
      "          4.2226e-02, -1.2208e-02,  5.0255e-02, -3.9420e-02,  4.7436e-02,\n",
      "         -2.4530e-02,  3.1417e-02, -3.5610e-02,  1.1337e-02,  4.8983e-02,\n",
      "         -2.6591e-02, -2.3820e-02, -3.0315e-02,  2.3937e-02,  3.6338e-02,\n",
      "          4.6603e-02,  2.4892e-02,  2.5473e-02,  1.7773e-02, -4.4815e-02,\n",
      "         -3.1242e-02,  2.8088e-02,  4.4046e-02,  3.5576e-02, -4.0117e-02,\n",
      "          5.3033e-03, -2.4421e-02,  3.3160e-02,  2.0451e-02, -3.8150e-02,\n",
      "         -3.6064e-02,  3.2567e-03, -1.5572e-05, -4.5618e-02,  4.0997e-02,\n",
      "          1.4515e-03,  1.2041e-02, -1.1628e-02,  3.8099e-02, -2.6261e-02,\n",
      "         -4.6674e-02, -3.6401e-02, -3.2417e-02,  3.6422e-02,  3.7055e-02,\n",
      "         -4.1529e-03, -3.2318e-02, -3.8690e-02, -2.3821e-02,  4.8346e-02,\n",
      "         -3.7437e-02, -6.1967e-03, -4.6604e-02,  4.6125e-02, -1.8624e-02,\n",
      "          1.4519e-02,  2.4582e-02,  4.7858e-02,  1.4292e-02, -2.3975e-03,\n",
      "          4.5228e-02, -2.9393e-02, -3.7944e-03, -3.6816e-02,  4.0172e-02,\n",
      "          4.0351e-02,  4.4750e-03,  3.8056e-02,  2.3122e-02, -3.1166e-02,\n",
      "          5.0016e-02,  3.8908e-02,  5.0755e-03, -4.4461e-02,  3.0729e-02,\n",
      "          1.2176e-02, -5.0477e-02,  1.6790e-02, -4.4603e-02,  3.9212e-03,\n",
      "          1.2819e-02,  5.9171e-03, -4.7825e-02, -1.7845e-02,  7.6942e-03,\n",
      "          3.3967e-02,  2.2272e-02, -1.6522e-02,  1.3616e-02, -5.0205e-02,\n",
      "         -4.3790e-02, -2.5524e-02, -4.1768e-02, -7.7004e-03,  2.4418e-02,\n",
      "          2.3146e-02,  3.6274e-02,  2.7654e-02, -1.9422e-02,  2.0016e-02,\n",
      "         -4.6516e-02, -1.7514e-02,  4.1330e-02,  3.2309e-02,  3.7365e-02,\n",
      "          2.7952e-02, -1.5324e-02,  2.8776e-02, -2.3353e-03,  8.6593e-03,\n",
      "          1.5673e-02,  1.8950e-02,  8.0637e-03,  6.4292e-03,  4.2396e-02,\n",
      "         -3.2318e-02,  2.6362e-02, -1.4797e-02,  4.5972e-02,  4.1935e-02,\n",
      "         -1.8504e-03, -3.2996e-02,  3.3323e-02,  1.4079e-02,  2.7522e-02,\n",
      "          4.8164e-02,  4.4487e-02,  2.0605e-02,  4.0759e-02, -1.3079e-02,\n",
      "         -6.4062e-03,  3.1029e-02,  5.0282e-02,  2.2355e-02,  4.4551e-02,\n",
      "          3.1893e-02,  2.0296e-02, -2.1806e-02,  4.3304e-02, -2.4226e-02,\n",
      "          4.2439e-02, -3.0103e-02,  3.4712e-02, -3.9503e-03, -3.1596e-02,\n",
      "          4.8462e-02, -5.7145e-03,  2.4413e-02,  5.4318e-03,  4.3457e-02,\n",
      "          3.4971e-02,  3.5105e-02,  4.6794e-02,  2.4928e-02,  4.4975e-02,\n",
      "         -1.2721e-03,  2.7094e-02,  4.7886e-02,  3.1071e-04, -4.8057e-03,\n",
      "          6.9375e-03,  2.8191e-02,  3.8724e-02, -3.6485e-02, -3.8611e-04,\n",
      "          3.7779e-02, -1.1436e-02, -1.7022e-02,  2.8586e-02,  4.1610e-02,\n",
      "          2.7880e-02, -3.9807e-03,  2.5247e-02,  2.2082e-02,  3.5113e-02,\n",
      "         -4.6456e-02, -2.6130e-02, -2.9600e-02, -4.6943e-02, -3.1008e-02,\n",
      "         -4.3529e-03,  1.2474e-02, -2.2533e-02,  2.2165e-02,  7.2079e-03,\n",
      "         -2.3982e-02,  2.6324e-02, -2.3481e-02,  2.0811e-02, -2.0601e-02,\n",
      "          1.1528e-02,  3.0190e-02, -4.2345e-02,  2.5886e-02, -4.6997e-02,\n",
      "         -4.2321e-02,  3.5411e-02, -4.6682e-02, -3.9481e-02,  3.4758e-02,\n",
      "          4.9335e-02, -4.6310e-02, -4.5685e-03, -2.2331e-02,  2.6214e-02,\n",
      "          1.7553e-02,  2.7822e-02,  2.5259e-02,  4.6720e-02, -2.4068e-02,\n",
      "         -1.7106e-02, -4.9805e-02, -2.1688e-02,  1.1243e-02,  4.0807e-02,\n",
      "         -4.1371e-02,  3.5722e-02, -3.4918e-03, -5.2318e-03,  3.6135e-02,\n",
      "          3.5374e-02,  1.3626e-02,  2.1046e-03, -4.8355e-02,  3.3477e-02,\n",
      "          1.4286e-02,  2.3567e-02,  3.6898e-02,  4.2475e-02,  1.6059e-02,\n",
      "         -2.8263e-02, -3.6462e-02, -1.8215e-02,  3.7091e-02,  1.1855e-02,\n",
      "          1.8946e-02,  2.9344e-02, -1.2659e-02,  1.6132e-02,  4.4740e-02,\n",
      "          9.9078e-03, -2.7106e-02,  1.0591e-02, -4.9547e-02,  9.3410e-03,\n",
      "         -1.8050e-02, -1.6783e-02,  2.1711e-02, -3.0654e-02, -2.6847e-02,\n",
      "         -2.1549e-02,  7.6441e-03, -8.7389e-04,  2.6277e-02,  3.1371e-02,\n",
      "          4.8881e-02, -4.1811e-02, -7.2999e-03, -1.3418e-02,  1.3935e-02,\n",
      "          3.1094e-02,  1.6895e-02,  1.4628e-02, -2.4681e-02, -5.9693e-03,\n",
      "         -3.7130e-02,  3.3397e-02,  4.4450e-02,  2.3039e-02, -2.1233e-02,\n",
      "         -2.8071e-02,  1.9024e-03, -3.2571e-03,  4.5548e-02,  1.7856e-02,\n",
      "          3.8993e-02,  4.7402e-02,  7.9645e-03, -3.9163e-03,  2.3655e-02,\n",
      "          8.2848e-03,  1.8871e-02, -4.1063e-02,  3.5479e-02, -4.2824e-02,\n",
      "          4.5918e-02,  2.8271e-02, -3.4082e-02,  1.8204e-03,  7.5099e-03,\n",
      "          1.5353e-02, -3.6668e-02],\n",
      "        [-8.4436e-04,  4.6320e-04, -4.6286e-02, -4.1117e-02, -2.7230e-02,\n",
      "          1.1995e-02,  3.6405e-02, -3.8749e-02, -1.3196e-02, -1.8508e-02,\n",
      "          1.8997e-02,  1.9062e-03, -2.4475e-02, -4.4600e-04,  3.9377e-02,\n",
      "         -6.8345e-03,  4.0454e-02,  2.6467e-02,  4.7813e-02, -6.2292e-03,\n",
      "          3.5279e-02,  4.2935e-02,  3.6818e-02, -3.0845e-02,  9.9573e-05,\n",
      "         -2.8254e-02,  4.6907e-02, -3.9959e-02,  3.3550e-02,  2.9753e-02,\n",
      "         -2.4864e-02, -2.8772e-02,  2.0417e-02, -2.2591e-02, -3.0147e-02,\n",
      "          4.1879e-02,  2.6082e-02,  9.1361e-03,  5.3886e-03,  1.1276e-02,\n",
      "         -3.5550e-02,  5.6287e-03,  2.6648e-02,  3.9401e-02, -4.8151e-02,\n",
      "         -3.2393e-03,  3.9730e-02,  2.7209e-02,  1.9258e-02,  4.7004e-03,\n",
      "          4.0836e-02, -4.8251e-02,  1.3383e-02,  2.9079e-02,  4.1174e-03,\n",
      "          3.5044e-02, -5.4190e-03,  4.3007e-02,  5.9983e-03, -1.1188e-02,\n",
      "          1.4525e-04,  4.3955e-03, -2.1267e-02, -3.6282e-02,  5.9388e-03,\n",
      "         -2.6606e-02,  4.3569e-02, -2.5908e-02, -2.8464e-02, -5.0294e-02,\n",
      "         -2.7149e-02, -9.2083e-03, -3.0635e-02, -3.7457e-02, -2.7968e-02,\n",
      "         -3.9059e-02, -1.8310e-02,  1.9734e-02,  2.5211e-02,  4.4558e-02,\n",
      "          5.6372e-03, -5.4105e-03, -3.0174e-02, -1.1329e-02,  3.5057e-02,\n",
      "         -3.0680e-02, -1.8884e-02,  3.4839e-02,  2.5009e-02,  2.1715e-02,\n",
      "         -1.6851e-03, -1.1832e-02,  3.9263e-02, -4.1317e-02,  3.3715e-02,\n",
      "          5.0030e-02,  1.9923e-02,  7.9325e-03,  4.2432e-02,  4.5110e-02,\n",
      "         -4.1011e-02,  1.4049e-02,  1.5658e-02,  2.8190e-02,  3.1404e-02,\n",
      "          1.5538e-02, -2.0923e-02,  4.4800e-02, -4.0017e-02,  2.0037e-02,\n",
      "          2.2183e-02,  3.1869e-03,  2.8220e-02, -2.3669e-03, -3.4450e-03,\n",
      "         -3.1959e-02, -1.1784e-02, -1.0833e-02,  6.3646e-03,  2.4701e-02,\n",
      "          4.1536e-02, -3.5689e-02,  2.6043e-02, -2.6160e-02,  3.1041e-02,\n",
      "         -1.4378e-02, -1.4827e-02, -2.2137e-02, -5.0108e-02,  3.4437e-02,\n",
      "          5.0531e-03,  1.8925e-02, -1.7462e-03, -4.6566e-02, -1.3769e-02,\n",
      "         -2.4092e-02,  8.3154e-03, -4.7553e-03, -2.7834e-02, -1.4092e-02,\n",
      "          4.7522e-02,  4.3938e-04, -6.1520e-03, -3.3628e-02,  2.4959e-02,\n",
      "         -4.2484e-02,  1.4002e-02, -7.6609e-03,  1.1837e-02, -1.7809e-02,\n",
      "          2.6687e-02,  4.0160e-02,  1.6379e-02,  4.8835e-03, -9.7288e-03,\n",
      "          2.4346e-02,  2.4970e-02,  7.6887e-03,  3.4742e-03, -1.7226e-02,\n",
      "          2.1858e-02,  2.8066e-02, -1.3250e-03, -1.2220e-02,  2.3259e-02,\n",
      "          2.9486e-02, -1.0645e-02,  2.0665e-02,  2.5429e-02, -3.5964e-02,\n",
      "          3.4142e-03,  4.6773e-02,  4.4023e-02, -4.4446e-02, -3.9362e-02,\n",
      "          3.0851e-02, -3.1424e-02,  1.0001e-02, -1.2694e-02, -3.6608e-02,\n",
      "          9.8654e-04,  2.0351e-03,  3.2658e-02,  3.3996e-02,  2.7493e-02,\n",
      "         -9.5495e-03,  3.8271e-02, -4.6449e-02, -1.3298e-02, -4.2368e-02,\n",
      "          7.0751e-03,  1.6120e-03, -2.2535e-02,  3.3125e-03, -3.0048e-02,\n",
      "         -1.0697e-02,  4.7502e-02, -3.4120e-02, -4.3712e-02,  7.0326e-04,\n",
      "         -3.4811e-02,  2.1465e-02, -1.2599e-02,  2.5632e-02, -3.2623e-02,\n",
      "          1.5351e-02, -1.2758e-02, -4.6091e-02,  3.4489e-02,  4.3404e-02,\n",
      "         -3.6017e-02,  3.9810e-02, -4.2790e-02,  3.9775e-03,  2.3393e-02,\n",
      "         -4.3634e-02,  2.0858e-02, -2.6156e-02, -3.7444e-02,  7.6208e-03,\n",
      "         -1.5648e-02, -1.0164e-03, -2.3660e-02,  1.2886e-02, -6.4721e-03,\n",
      "         -2.6924e-02,  1.3303e-02,  3.7031e-02,  1.6923e-02, -5.2338e-03,\n",
      "         -2.6032e-02, -4.8476e-02, -1.8075e-02, -7.8929e-03, -2.0132e-02,\n",
      "          2.3652e-02, -1.4058e-03, -2.2484e-02, -1.1544e-02, -4.2454e-02,\n",
      "         -2.4148e-02,  4.0420e-02, -4.5734e-02,  4.4660e-03, -4.4692e-02,\n",
      "         -3.7807e-02, -2.0495e-02, -2.9238e-02, -2.5591e-02,  2.0644e-02,\n",
      "         -1.9568e-02,  1.9321e-04,  4.6011e-02,  4.4228e-02,  4.5927e-02,\n",
      "          1.0998e-02,  2.9554e-02,  6.6910e-03, -2.5686e-02,  1.5864e-02,\n",
      "          1.8662e-02,  1.4299e-02,  1.9126e-02, -1.5135e-02, -1.7690e-03,\n",
      "         -1.9451e-02, -2.1830e-02,  4.4037e-02, -1.7111e-03, -2.4386e-02,\n",
      "         -4.9372e-02,  1.9794e-02,  3.6722e-02,  4.3507e-02,  4.9995e-02,\n",
      "          1.7453e-02,  4.9394e-03,  3.5512e-02,  4.5407e-02, -4.3133e-02,\n",
      "          1.8693e-02,  3.7588e-02, -8.3690e-03, -3.8116e-02,  2.9382e-03,\n",
      "          1.9051e-02,  1.3843e-02, -2.1166e-02,  2.0318e-02, -3.7392e-03,\n",
      "         -4.0516e-02,  6.4961e-03, -3.4701e-02, -5.9958e-03, -5.6568e-03,\n",
      "          7.7600e-03, -3.9939e-02,  2.8040e-03, -1.7227e-02,  7.9805e-03,\n",
      "          1.5398e-02, -4.8386e-02,  4.1199e-02,  7.7079e-03, -1.2272e-02,\n",
      "          3.4938e-02, -1.9717e-02,  5.0322e-02,  4.0524e-02, -3.7486e-02,\n",
      "         -4.5297e-02,  3.2747e-02,  2.8830e-03,  7.5779e-03, -5.3669e-04,\n",
      "         -5.0200e-02,  3.1683e-02, -4.2788e-02,  2.7783e-02, -3.5987e-02,\n",
      "          4.1249e-02, -1.9922e-02,  3.1276e-02, -1.5448e-02, -2.2014e-02,\n",
      "         -4.7295e-02, -9.8395e-03,  7.9034e-04, -4.0261e-02, -3.3531e-02,\n",
      "         -3.5176e-02, -3.7650e-02, -7.9397e-03,  1.0459e-02,  1.3462e-02,\n",
      "         -8.6401e-03, -3.4270e-02, -2.9226e-02, -6.4324e-03,  4.1644e-02,\n",
      "         -3.1506e-02,  3.8885e-02,  4.6180e-02,  4.2839e-02,  3.8511e-02,\n",
      "          1.5177e-02, -4.0792e-02,  5.5268e-03,  2.4361e-02, -1.3816e-02,\n",
      "         -3.0665e-02, -3.6705e-02,  1.1947e-02, -4.8924e-02,  3.3682e-02,\n",
      "         -1.0147e-02,  8.0797e-03,  1.0754e-02, -3.2054e-02,  4.9827e-02,\n",
      "          4.9216e-03,  1.4949e-02,  1.3251e-02, -3.9744e-02, -3.0465e-02,\n",
      "          1.9700e-02, -9.5994e-03,  1.0148e-02, -2.8062e-02,  5.6410e-03,\n",
      "          4.8060e-02, -3.8329e-02,  3.0714e-02, -1.0224e-02, -1.7609e-02,\n",
      "          1.1922e-02, -2.3617e-03,  4.6731e-02, -4.4636e-02,  1.1019e-02,\n",
      "         -1.3555e-02,  2.0529e-02, -1.7224e-02,  1.4163e-02, -1.7578e-02,\n",
      "          3.6763e-02,  3.9954e-02,  1.9036e-03, -1.0099e-02, -1.8599e-03,\n",
      "         -4.1703e-02, -9.1470e-03]], grad_fn=<SliceBackward>) \n",
      "\n",
      "Layer: linear_relu_stack.3.bias | Size: torch.Size([512]) | Values : tensor([-9.9532e-05, -2.6696e-02], grad_fn=<SliceBackward>) \n",
      "\n",
      "Layer: linear_relu_stack.5.weight | Size: torch.Size([10, 512]) | Values : tensor([[ 0.0045,  0.0213, -0.0004,  ...,  0.0093, -0.0044, -0.0201],\n",
      "        [ 0.0042,  0.0004,  0.0274,  ..., -0.0073,  0.0296,  0.0280]],\n",
      "       grad_fn=<SliceBackward>) \n",
      "\n",
      "Layer: linear_relu_stack.5.bias | Size: torch.Size([10]) | Values : tensor([ 0.0442, -0.0017], grad_fn=<SliceBackward>) \n",
      "\n"
     ]
    }
   ],
   "source": [
    "print(\"Model structure: \", model, \"\\n\\n\")\n",
    "\n",
    "for name, param in model.named_parameters():\n",
    "    print(f\"Layer: {name} | Size: {param.size()} | Values : {param[:2]} \\n\")"
   ]
  },
  {
   "cell_type": "markdown",
   "metadata": {},
   "source": [
    "## Оптимизация параметров модели\n",
    "\n",
    "Для того, чтобы оптимизировать параметры модели (т.е. обучить сеть), нам не хватает всего несколько компонентов.\n",
    "\n",
    "Определим лосс функцию. В нашем примере это будет кросс-энтропия:\n",
    "\n",
    "$$ \\mathrm{H}(p, q) = -\\sum_{i=1}^N p_i\\, \\log q_i $$"
   ]
  },
  {
   "cell_type": "code",
   "execution_count": 34,
   "metadata": {},
   "outputs": [],
   "source": [
    "loss_fn = nn.CrossEntropyLoss()"
   ]
  },
  {
   "cell_type": "markdown",
   "metadata": {},
   "source": [
    "Определим алгоритм оптимизации.\n",
    "В нашем примере это будет стохастический градиентный спуск.\n",
    "Этот алгоритм реализован в классе torch.optim.SGD.\n",
    "На вход его конструктора необходимо передать все обучаемые параметры модели и learning rate."
   ]
  },
  {
   "cell_type": "code",
   "execution_count": 35,
   "metadata": {},
   "outputs": [],
   "source": [
    "learning_rate = 1e-3\n",
    "optimizer = torch.optim.SGD(model.parameters(), lr=learning_rate)"
   ]
  },
  {
   "cell_type": "markdown",
   "metadata": {},
   "source": [
    "Определим функцию обучения, которая будет проходить одну эпоху (т.е. один проход по всему датасету), получать предсказания модели для всех данных, вычислять лосс, градиенты лосса по параметрам модели и производить шаг алгоритма оптимизации.\n",
    "\n",
    "Каждые 100 батчей мы будем печатать значение лосса и текущий прогресс."
   ]
  },
  {
   "cell_type": "code",
   "execution_count": 36,
   "metadata": {},
   "outputs": [],
   "source": [
    "def train_loop(dataloader, model, loss_fn, optimizer):\n",
    "    size = len(dataloader.dataset)\n",
    "    for batch, (X, y) in enumerate(dataloader):\n",
    "        # Получаем предсказания модели для данного батча\n",
    "        pred = model(X)\n",
    "        # Вычисляем лосс\n",
    "        loss = loss_fn(pred, y)\n",
    "\n",
    "        # Backpropagation\n",
    "        # Обнуляем градиенты\n",
    "        optimizer.zero_grad()\n",
    "        # Вычисляем градиент лосса по параметрам модели\n",
    "        loss.backward()\n",
    "        # Производим шаг алгоритма оптимизации\n",
    "        optimizer.step()\n",
    "\n",
    "        if batch % 100 == 0:\n",
    "            loss, current = loss.item(), batch * len(X)\n",
    "            print(f\"loss: {loss:>7f}  [{current:>5d}/{size:>5d}]\")"
   ]
  },
  {
   "cell_type": "markdown",
   "metadata": {},
   "source": [
    "Теперь определим функцию, которая будет вычислять точность модели на тестовой части датасета:"
   ]
  },
  {
   "cell_type": "code",
   "execution_count": 37,
   "metadata": {},
   "outputs": [],
   "source": [
    "def test_loop(dataloader, model, loss_fn):\n",
    "    size = len(dataloader.dataset)\n",
    "    num_batches = len(dataloader)\n",
    "    test_loss, correct = 0, 0\n",
    "\n",
    "    with torch.no_grad():\n",
    "        for X, y in dataloader:\n",
    "            pred = model(X)\n",
    "            test_loss += loss_fn(pred, y).item()\n",
    "            correct += (pred.argmax(1) == y).type(torch.float).sum().item()\n",
    "\n",
    "    test_loss /= num_batches\n",
    "    correct /= size\n",
    "    print(f\"Test Error: \\n Accuracy: {(100*correct):>0.1f}%, Avg loss: {test_loss:>8f} \\n\")"
   ]
  },
  {
   "cell_type": "markdown",
   "metadata": {},
   "source": [
    "А теперь объединим всё вместе. Произведём три эпохи обучения модели. Вызов model.train() переводит модель в режим обучения или тестирования, в зависимости от аргумента."
   ]
  },
  {
   "cell_type": "code",
   "execution_count": 38,
   "metadata": {},
   "outputs": [
    {
     "name": "stdout",
     "output_type": "stream",
     "text": [
      "Epoch 1\n",
      "-------------------------------\n",
      "loss: 2.325609  [    0/60000]\n",
      "loss: 2.292153  [ 6400/60000]\n",
      "loss: 2.296936  [12800/60000]\n",
      "loss: 2.301628  [19200/60000]\n",
      "loss: 2.293182  [25600/60000]\n",
      "loss: 2.287861  [32000/60000]\n",
      "loss: 2.280863  [38400/60000]\n",
      "loss: 2.269682  [44800/60000]\n",
      "loss: 2.252916  [51200/60000]\n",
      "loss: 2.247829  [57600/60000]\n",
      "Test Error: \n",
      " Accuracy: 18.4%, Avg loss: 2.244631 \n",
      "\n",
      "Epoch 2\n",
      "-------------------------------\n",
      "loss: 2.259610  [    0/60000]\n",
      "loss: 2.221997  [ 6400/60000]\n",
      "loss: 2.226863  [12800/60000]\n",
      "loss: 2.181880  [19200/60000]\n",
      "loss: 2.153190  [25600/60000]\n",
      "loss: 2.125156  [32000/60000]\n",
      "loss: 2.043537  [38400/60000]\n",
      "loss: 2.036865  [44800/60000]\n",
      "loss: 1.956251  [51200/60000]\n",
      "loss: 1.833020  [57600/60000]\n",
      "Test Error: \n",
      " Accuracy: 60.3%, Avg loss: 1.869098 \n",
      "\n",
      "Epoch 3\n",
      "-------------------------------\n",
      "loss: 1.854661  [    0/60000]\n",
      "loss: 1.838099  [ 6400/60000]\n",
      "loss: 1.789593  [12800/60000]\n",
      "loss: 1.640451  [19200/60000]\n",
      "loss: 1.563700  [25600/60000]\n",
      "loss: 1.454309  [32000/60000]\n",
      "loss: 1.331785  [38400/60000]\n",
      "loss: 1.190705  [44800/60000]\n",
      "loss: 1.216360  [51200/60000]\n",
      "loss: 1.095114  [57600/60000]\n",
      "Test Error: \n",
      " Accuracy: 65.1%, Avg loss: 1.153141 \n",
      "\n",
      "Done!\n"
     ]
    }
   ],
   "source": [
    "epochs = 3\n",
    "for t in range(epochs):\n",
    "    print(f\"Epoch {t+1}\\n-------------------------------\")\n",
    "    model.train(True)\n",
    "    train_loop(train_dataloader, model, loss_fn, optimizer)\n",
    "    model.train(False)\n",
    "    test_loop(test_dataloader, model, loss_fn)\n",
    "print(\"Done!\")"
   ]
  },
  {
   "cell_type": "markdown",
   "metadata": {},
   "source": [
    "Всё работает, модель учится. Теперь сохраним параметры обученной модели в файл (\"чекпоинт\")."
   ]
  },
  {
   "cell_type": "code",
   "execution_count": 39,
   "metadata": {},
   "outputs": [],
   "source": [
    "checkpoint_filename = \"my_model.pt\"\n",
    "torch.save(model.state_dict(), checkpoint_filename)"
   ]
  },
  {
   "cell_type": "code",
   "execution_count": 40,
   "metadata": {},
   "outputs": [
    {
     "name": "stdout",
     "output_type": "stream",
     "text": [
      "my_model.pt\n"
     ]
    }
   ],
   "source": [
    "!ls *.pt"
   ]
  },
  {
   "cell_type": "markdown",
   "metadata": {},
   "source": [
    "Создадим новую модель, загрузим в неё только что сохранённые параметры и протестируем её. eval() - другой способ перевести модель в режим тестирования."
   ]
  },
  {
   "cell_type": "code",
   "execution_count": 41,
   "metadata": {},
   "outputs": [
    {
     "data": {
      "text/plain": [
       "<All keys matched successfully>"
      ]
     },
     "execution_count": 41,
     "metadata": {},
     "output_type": "execute_result"
    }
   ],
   "source": [
    "new_model = NeuralNetwork().eval()\n",
    "state_dict = torch.load(checkpoint_filename)\n",
    "new_model.load_state_dict(state_dict)"
   ]
  },
  {
   "cell_type": "code",
   "execution_count": 42,
   "metadata": {},
   "outputs": [
    {
     "name": "stdout",
     "output_type": "stream",
     "text": [
      "Test Error: \n",
      " Accuracy: 65.1%, Avg loss: 1.153566 \n",
      "\n"
     ]
    }
   ],
   "source": [
    "test_loop(test_dataloader, new_model, loss_fn)"
   ]
  },
  {
   "cell_type": "markdown",
   "metadata": {},
   "source": [
    "Веса загрузились и можно использовать модель."
   ]
  },
  {
   "cell_type": "markdown",
   "metadata": {},
   "source": [
    "## Заключение\n",
    "\n",
    "PyTorch является мощным инструментом в руках исследователя и позволяет воплощать практически любые идеи.\n",
    "\n",
    "Документация доступна здесь: https://pytorch.org/docs/stable/index.html"
   ]
  }
 ],
 "metadata": {
  "kernelspec": {
   "display_name": "Python 3",
   "language": "python",
   "name": "python3"
  },
  "language_info": {
   "codemirror_mode": {
    "name": "ipython",
    "version": 3
   },
   "file_extension": ".py",
   "mimetype": "text/x-python",
   "name": "python",
   "nbconvert_exporter": "python",
   "pygments_lexer": "ipython3",
   "version": "3.7.7"
  }
 },
 "nbformat": 4,
 "nbformat_minor": 4
}
